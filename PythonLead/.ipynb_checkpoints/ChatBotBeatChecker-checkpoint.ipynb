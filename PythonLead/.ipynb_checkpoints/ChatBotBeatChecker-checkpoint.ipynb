{
 "cells": [
  {
   "cell_type": "code",
   "execution_count": 1,
   "metadata": {},
   "outputs": [],
   "source": [
    "import requests,json\n",
    "import datetime\n",
    "import smtplib\n",
    "from email.mime.text import MIMEText\n",
    "from email.mime.multipart import MIMEMultipart\n",
    "from email.utils import COMMASPACE,formatdate\n",
    "from email.mime.application import MIMEApplication\n",
    "from apscheduler.schedulers.blocking import BlockingScheduler"
   ]
  },
  {
   "cell_type": "code",
   "execution_count": 2,
   "metadata": {},
   "outputs": [],
   "source": [
    "def sendMsg(status,to):\n",
    "    msg = MIMEMultipart('alternative')\n",
    "    sender='brai@defteam.com'\n",
    "    subject = \"Update from chatbot response for the date : \"+str(datetime.datetime.now()).split(\" \")[0]\n",
    "    links=status         \n",
    "    body1=\"\"\"\\\n",
    "                            <html>\n",
    "                                   <head></head>\n",
    "                                   <body>\n",
    "                                          <p>Hi,</p>\n",
    "                                                 <p>&emsp;Here is the  response status code :</p>\n",
    "                                            \"\"\"+links+\"\"\"               \n",
    "                                                 <p><br></p>\n",
    "                                                 <P> From,</p>\n",
    "                                                 <p> Analytics Team</p>                                          \n",
    "                                   </body>       \n",
    "                            </html>\n",
    "                     \"\"\"\n",
    "    # set up the SMTP server\n",
    "    s = smtplib.SMTP(host='smtp.office365.com', port=587)\n",
    "    s.starttls()\n",
    "    s.login('brai@defteam.com', 'BREN@9148318531')\n",
    "    # setup the parameters of the message\n",
    "    cc= \"brai@defteam.com\"\n",
    "    recp=cc.split(\",\")+[to]\n",
    "    msg['From']=sender\n",
    "    msg['To']=to\n",
    "    msg['Subject']=subject\n",
    "    msg['Date']=formatdate(localtime=True)\n",
    "    msg['Cc']=cc\n",
    "    msg.attach(MIMEText(body1, 'html'))\n",
    "    # send the message via the server set up earlier.\n",
    "    s.sendmail(msg['From'],recp,msg.as_string())\n",
    "    s.quit()\n",
    "    print(\"I have sent successfully\")"
   ]
  },
  {
   "cell_type": "code",
   "execution_count": 4,
   "metadata": {},
   "outputs": [],
   "source": [
    "sched = BlockingScheduler()\n",
    "\n",
    "@sched.scheduled_job('interval', seconds=1800) #every 30 minutes\n",
    "def timed_job():\n",
    "    response= requests.post(\"http://40.121.88.69:30000/chatbot\",\\\n",
    "                        dict(message=\"direct_1\",\\\n",
    "                             sessionID=\"healthcheck\",\\\n",
    "                             timestamp=datetime.datetime.now().timestamp(),\\\n",
    "                             pageSource=\"healthcheck\",\\\n",
    "                             referralSource=\"healthcheck\",\\\n",
    "                             referralSourceIP=\"healthcheck\"))\n",
    "    if response.status_code != 200:\n",
    "        sendMsg(str(response.status_code),\"jsanket@defteam.com\")"
   ]
  },
  {
   "cell_type": "code",
   "execution_count": null,
   "metadata": {},
   "outputs": [
    {
     "name": "stdout",
     "output_type": "stream",
     "text": [
      "I have sent successfully\n",
      "I have sent successfully\n"
     ]
    }
   ],
   "source": [
    "sched.start()"
   ]
  },
  {
   "cell_type": "code",
   "execution_count": null,
   "metadata": {},
   "outputs": [],
   "source": []
  }
 ],
 "metadata": {
  "kernelspec": {
   "display_name": "Python 3",
   "language": "python",
   "name": "python3"
  },
  "language_info": {
   "codemirror_mode": {
    "name": "ipython",
    "version": 3
   },
   "file_extension": ".py",
   "mimetype": "text/x-python",
   "name": "python",
   "nbconvert_exporter": "python",
   "pygments_lexer": "ipython3",
   "version": "3.6.5"
  }
 },
 "nbformat": 4,
 "nbformat_minor": 2
}
