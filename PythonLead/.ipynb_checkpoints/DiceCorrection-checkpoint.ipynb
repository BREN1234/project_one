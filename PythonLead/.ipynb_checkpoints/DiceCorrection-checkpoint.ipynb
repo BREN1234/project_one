{
 "cells": [
  {
   "cell_type": "code",
   "execution_count": 1,
   "metadata": {},
   "outputs": [],
   "source": [
    "import requests ,re\n",
    "from bs4 import BeautifulSoup"
   ]
  },
  {
   "cell_type": "code",
   "execution_count": 33,
   "metadata": {},
   "outputs": [],
   "source": [
    "url=\"https://www.dice.com/jobs/advancedResult?q=%28Java%29&l=USA&limit=100&postedDate=3\"\n",
    "url2=\"https://www.dice.com/jobs/advancedResult?q=%28Java+Developer%29&l=Usa&limit=100&radius=100&postedDate=3&sort=date\""
   ]
  },
  {
   "cell_type": "code",
   "execution_count": 34,
   "metadata": {},
   "outputs": [],
   "source": [
    "responseText= requests.get(url2)"
   ]
  },
  {
   "cell_type": "code",
   "execution_count": 35,
   "metadata": {},
   "outputs": [],
   "source": [
    "text= BeautifulSoup(responseText.text,'lxml')"
   ]
  },
  {
   "cell_type": "code",
   "execution_count": 41,
   "metadata": {},
   "outputs": [],
   "source": [
    "numberOfPosition= text.find('span',id=\"posiCountId\").text.strip()"
   ]
  },
  {
   "cell_type": "code",
   "execution_count": 42,
   "metadata": {},
   "outputs": [],
   "source": [
    "records= text.find_all(\"div\",class_=\"complete-serp-result-div\")"
   ]
  },
  {
   "cell_type": "code",
   "execution_count": 43,
   "metadata": {},
   "outputs": [],
   "source": [
    "designatoin= records[1].find('a',class_=\"dice-btn-link loggedInVisited\").text.strip()\n",
    "url= records[1].find('a',class_=\"dice-btn-link loggedInVisited\")['href']"
   ]
  },
  {
   "cell_type": "code",
   "execution_count": 44,
   "metadata": {},
   "outputs": [],
   "source": [
    "firstC= records[0].find('span',class_=\"hidden-xs\")\n",
    "companyUrl=firstC.find('a',class_=\"dice-btn-link\")['href']\n",
    "companyName=firstC.find('span',class_=\"compName\").text"
   ]
  },
  {
   "cell_type": "code",
   "execution_count": 46,
   "metadata": {},
   "outputs": [
    {
     "data": {
      "text/plain": [
       "('5',\n",
       " 'Jmeter Peformance Tester',\n",
       " '/jobs/detail/Jmeter-Peformance-Tester-Softworld%2C-Inc.-California%2C-Usa-CA-/softwinc/Softworld_2294%26%2345770',\n",
       " 'Catapult Staffing',\n",
       " '/company/10529568')"
      ]
     },
     "execution_count": 46,
     "metadata": {},
     "output_type": "execute_result"
    }
   ],
   "source": [
    "numberOfPosition,designatoin,url,companyName,companyUrl"
   ]
  },
  {
   "cell_type": "code",
   "execution_count": 59,
   "metadata": {},
   "outputs": [],
   "source": [
    "posted_date=records[3].find('li',class_=\"posted col-xs-12 col-sm-2 col-md-2 col-lg-2 margin-top-3 text-wrap-padding\")\\\n",
    ".find('span',style=\"display:none;\").text\\\n",
    ".split('T')[0]"
   ]
  },
  {
   "cell_type": "code",
   "execution_count": 76,
   "metadata": {},
   "outputs": [],
   "source": [
    "posted_day= records[3].find('li',class_=\"posted col-xs-12 col-sm-2 col-md-2 col-lg-2 margin-top-3 text-wrap-padding\").text.strip()"
   ]
  },
  {
   "cell_type": "code",
   "execution_count": 77,
   "metadata": {},
   "outputs": [
    {
     "data": {
      "text/plain": [
       "'2 days ago'"
      ]
     },
     "execution_count": 77,
     "metadata": {},
     "output_type": "execute_result"
    }
   ],
   "source": [
    "posted_day.translate({ord('\\t'):None}).split(\"\\n\")[0]"
   ]
  },
  {
   "cell_type": "code",
   "execution_count": null,
   "metadata": {},
   "outputs": [],
   "source": []
  }
 ],
 "metadata": {
  "kernelspec": {
   "display_name": "Python 3",
   "language": "python",
   "name": "python3"
  },
  "language_info": {
   "codemirror_mode": {
    "name": "ipython",
    "version": 3
   },
   "file_extension": ".py",
   "mimetype": "text/x-python",
   "name": "python",
   "nbconvert_exporter": "python",
   "pygments_lexer": "ipython3",
   "version": "3.6.5"
  }
 },
 "nbformat": 4,
 "nbformat_minor": 2
}
