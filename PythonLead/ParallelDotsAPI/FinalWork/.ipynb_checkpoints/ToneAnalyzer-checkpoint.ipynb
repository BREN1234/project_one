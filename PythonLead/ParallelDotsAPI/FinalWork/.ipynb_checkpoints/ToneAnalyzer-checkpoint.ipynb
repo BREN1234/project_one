{
 "cells": [
  {
   "cell_type": "code",
   "execution_count": 1,
   "metadata": {},
   "outputs": [
    {
     "name": "stderr",
     "output_type": "stream",
     "text": [
      "C:\\Users\\brai\\Anaconda3\\lib\\site-packages\\h5py\\__init__.py:36: FutureWarning: Conversion of the second argument of issubdtype from `float` to `np.floating` is deprecated. In future, it will be treated as `np.float64 == np.dtype(float).type`.\n",
      "  from ._conv import register_converters as _register_converters\n",
      "Using TensorFlow backend.\n"
     ]
    }
   ],
   "source": [
    "from SentimentAnalyzerFinal import *\n",
    "from ToneAnalyzerFinal import *\n",
    "from flask import Flask\n",
    "import warnings\n",
    "warnings.filterwarnings(\"ignore\",category=DeprecationWarning)"
   ]
  },
  {
   "cell_type": "code",
   "execution_count": null,
   "metadata": {},
   "outputs": [],
   "source": [
    "app= Flask(__name__)\n",
    "@app.route('/comments/<sentence>')\n",
    "def api_article(sentence):\n",
    "    global objectA\n",
    "    print(request.url)\n",
    "    sentence=re.findall(r'\\\"(.+?)\\\"',request.url)[0]\n",
    "    print(\"sentence: \",sentence)\n",
    "    df=objectA.testSentence(sentence)\n",
    "    df=df.sort_values(df.columns[0],ascending=False)\n",
    "    print(\"Object A:\", df)\n",
    "    df1= df.iloc[0:1]\n",
    "    column= df1.columns.values\n",
    "    val= df1.values[0]\n",
    "    index= str(df1.index.values)+\"-\"+str(val)\n",
    "    index=index.replace('[',\"\")\n",
    "    index=index.replace(']',\"\")\n",
    "    index=index.replace(\"'\",\"\")\n",
    "    print(index)\n",
    "    g=api_article_sentiment(sentence)#getting Sentiments\n",
    "    g= g.replace('[',\"\")\n",
    "    g= g.replace(']',\"\")\n",
    "    g= g.replace(\"'\",\"\")\n",
    "    g=g+\"-\"+str(index).capitalize()\n",
    "    print(g)\n",
    "    return(str(g))\n",
    "def api_article_sentiment(sentence):\n",
    "    global objectB\n",
    "    df=objectB.testSentence(sentence)\n",
    "    df=df.sort_values(df.columns[0],ascending=False)\n",
    "    print(\"B: \",df)\n",
    "    df1= df.iloc[0:1]\n",
    "    column= df1.columns.values\n",
    "    val= df1.values[0]\n",
    "    index= df1.index.values\n",
    "    print(\"Object B index: \",index)\n",
    "    if index[0]==0:\n",
    "        index=\"Negative\"\n",
    "    elif index[0]==1:\n",
    "        index=\"Positive\"\n",
    "    else:\n",
    "        index=\"Neutral\"\n",
    "    print(index)\n",
    "    g=str(index).capitalize()+\"-\"+str(val)\n",
    "    g= g.replace('[',\"\")\n",
    "    g= g.replace(']',\"\")\n",
    "    g= g.replace(\"'\",\"\")\n",
    "    print(g.split())\n",
    "    return(str(g.capitalize()))"
   ]
  },
  {
   "cell_type": "code",
   "execution_count": null,
   "metadata": {
    "scrolled": false
   },
   "outputs": [],
   "source": [
    "if __name__ == '__main__':\n",
    "    objectA= ToneAnalyzerTensorFlow(\"combine.csv\")\n",
    "    objectB= SentimentAnalyzer(\"combine.csv\")\n",
    "    objectA.main()\n",
    "    objectB.main()\n",
    "    app.run(host='10.0.1.4',port=5010)"
   ]
  },
  {
   "cell_type": "code",
   "execution_count": null,
   "metadata": {},
   "outputs": [],
   "source": []
  },
  {
   "cell_type": "code",
   "execution_count": null,
   "metadata": {},
   "outputs": [],
   "source": []
  },
  {
   "cell_type": "code",
   "execution_count": null,
   "metadata": {},
   "outputs": [],
   "source": []
  },
  {
   "cell_type": "code",
   "execution_count": null,
   "metadata": {},
   "outputs": [],
   "source": [
    "df_1=pd.read_csv(\"../parallelDotPart_senti.csv\")\n",
    "df_2= pd.read_csv(\"../parallelDotPart_tone.csv\")\n",
    "df_3=pd.read_csv(\"../toneparallelDotPart40.csv\")\n",
    "\n",
    "df= df_3.append(df_1.append(df_2))\n",
    "\n",
    "df.ParallelTone.unique()\n",
    "\n",
    "df.to_csv(\"combine.csv\",index=False)"
   ]
  },
  {
   "cell_type": "code",
   "execution_count": null,
   "metadata": {},
   "outputs": [],
   "source": [
    "newDf= pd.read_excel(\"D:/Datasets/TextDataset/ParallelDotsDatasets/task_comment_and_sentiments.xls\")"
   ]
  },
  {
   "cell_type": "code",
   "execution_count": null,
   "metadata": {},
   "outputs": [],
   "source": [
    "f=newDf[['Content', 'Sentiment']]"
   ]
  },
  {
   "cell_type": "code",
   "execution_count": null,
   "metadata": {},
   "outputs": [],
   "source": [
    "f.columns=['content','tone']"
   ]
  },
  {
   "cell_type": "code",
   "execution_count": null,
   "metadata": {},
   "outputs": [],
   "source": [
    "f['emotion']=f.tone.map({\"Excitement\":\"Excited\",\"Anger\":\"Angry\",\"Sad\":\"Sad\",\"Happy\":\"Happy\"})"
   ]
  },
  {
   "cell_type": "code",
   "execution_count": null,
   "metadata": {},
   "outputs": [],
   "source": [
    "f.drop(['tone'],axis=1)"
   ]
  },
  {
   "cell_type": "code",
   "execution_count": null,
   "metadata": {},
   "outputs": [],
   "source": [
    "f.to_csv(\"D:/Datasets/TextDataset/ParallelDotsDatasets/DefteamTone.csv\",index=False)"
   ]
  },
  {
   "cell_type": "code",
   "execution_count": null,
   "metadata": {},
   "outputs": [],
   "source": [
    "g.content.append(f.content)"
   ]
  },
  {
   "cell_type": "code",
   "execution_count": null,
   "metadata": {},
   "outputs": [],
   "source": []
  },
  {
   "cell_type": "code",
   "execution_count": 2,
   "metadata": {},
   "outputs": [],
   "source": [
    " index = pd.Index([3, 1, 2, 3, 4, np.nan])"
   ]
  },
  {
   "cell_type": "code",
   "execution_count": 6,
   "metadata": {},
   "outputs": [
    {
     "ename": "AttributeError",
     "evalue": "'Series' object has no attribute 'value'",
     "output_type": "error",
     "traceback": [
      "\u001b[1;31m---------------------------------------------------------------------------\u001b[0m",
      "\u001b[1;31mAttributeError\u001b[0m                            Traceback (most recent call last)",
      "\u001b[1;32m<ipython-input-6-0177325bf9a5>\u001b[0m in \u001b[0;36m<module>\u001b[1;34m()\u001b[0m\n\u001b[1;32m----> 1\u001b[1;33m \u001b[0mindex\u001b[0m\u001b[1;33m.\u001b[0m\u001b[0mvalue_counts\u001b[0m\u001b[1;33m(\u001b[0m\u001b[1;33m)\u001b[0m\u001b[1;33m.\u001b[0m\u001b[0mvalue\u001b[0m\u001b[1;33m\u001b[0m\u001b[0m\n\u001b[0m",
      "\u001b[1;32m~\\Anaconda3\\lib\\site-packages\\pandas\\core\\generic.py\u001b[0m in \u001b[0;36m__getattr__\u001b[1;34m(self, name)\u001b[0m\n\u001b[0;32m   3612\u001b[0m             \u001b[1;32mif\u001b[0m \u001b[0mname\u001b[0m \u001b[1;32min\u001b[0m \u001b[0mself\u001b[0m\u001b[1;33m.\u001b[0m\u001b[0m_info_axis\u001b[0m\u001b[1;33m:\u001b[0m\u001b[1;33m\u001b[0m\u001b[0m\n\u001b[0;32m   3613\u001b[0m                 \u001b[1;32mreturn\u001b[0m \u001b[0mself\u001b[0m\u001b[1;33m[\u001b[0m\u001b[0mname\u001b[0m\u001b[1;33m]\u001b[0m\u001b[1;33m\u001b[0m\u001b[0m\n\u001b[1;32m-> 3614\u001b[1;33m             \u001b[1;32mreturn\u001b[0m \u001b[0mobject\u001b[0m\u001b[1;33m.\u001b[0m\u001b[0m__getattribute__\u001b[0m\u001b[1;33m(\u001b[0m\u001b[0mself\u001b[0m\u001b[1;33m,\u001b[0m \u001b[0mname\u001b[0m\u001b[1;33m)\u001b[0m\u001b[1;33m\u001b[0m\u001b[0m\n\u001b[0m\u001b[0;32m   3615\u001b[0m \u001b[1;33m\u001b[0m\u001b[0m\n\u001b[0;32m   3616\u001b[0m     \u001b[1;32mdef\u001b[0m \u001b[0m__setattr__\u001b[0m\u001b[1;33m(\u001b[0m\u001b[0mself\u001b[0m\u001b[1;33m,\u001b[0m \u001b[0mname\u001b[0m\u001b[1;33m,\u001b[0m \u001b[0mvalue\u001b[0m\u001b[1;33m)\u001b[0m\u001b[1;33m:\u001b[0m\u001b[1;33m\u001b[0m\u001b[0m\n",
      "\u001b[1;31mAttributeError\u001b[0m: 'Series' object has no attribute 'value'"
     ]
    }
   ],
   "source": [
    "index.value_counts().value"
   ]
  },
  {
   "cell_type": "code",
   "execution_count": null,
   "metadata": {},
   "outputs": [],
   "source": []
  }
 ],
 "metadata": {
  "kernelspec": {
   "display_name": "Python 3",
   "language": "python",
   "name": "python3"
  },
  "language_info": {
   "codemirror_mode": {
    "name": "ipython",
    "version": 3
   },
   "file_extension": ".py",
   "mimetype": "text/x-python",
   "name": "python",
   "nbconvert_exporter": "python",
   "pygments_lexer": "ipython3",
   "version": "3.6.4"
  }
 },
 "nbformat": 4,
 "nbformat_minor": 2
}
