{
 "cells": [
  {
   "cell_type": "code",
   "execution_count": null,
   "metadata": {},
   "outputs": [],
   "source": [
    "#!pip install paralleldots"
   ]
  },
  {
   "cell_type": "code",
   "execution_count": 1,
   "metadata": {},
   "outputs": [],
   "source": [
    "import paralleldots,operator,time,pandas as pd,numpy as np"
   ]
  },
  {
   "cell_type": "code",
   "execution_count": 31,
   "metadata": {},
   "outputs": [],
   "source": [
    "jn=\"GdM50FPJv1wLGBghUpsqJ7jDczMYSphlluThHxPH53U\"\n",
    "an=\"rHNJQohiywrkj4gIJzAerr5t5EaLr5HfcMxXtCkrbEI\"\n",
    "jy=\"yh8fXhjh6q16hlW0L4jTHqmSM7ty2RNcE4tElhunppo\"\n",
    "paralleldots.set_api_key(jn)"
   ]
  },
  {
   "cell_type": "code",
   "execution_count": 32,
   "metadata": {},
   "outputs": [
    {
     "data": {
      "text/plain": [
       "{'code': 200,\n",
       " 'probabilities': {'negative': 0.012, 'neutral': 0.009, 'positive': 0.979},\n",
       " 'sentiment': 'positive'}"
      ]
     },
     "execution_count": 32,
     "metadata": {},
     "output_type": "execute_result"
    }
   ],
   "source": [
    "paralleldots.get_api_key()\n",
    "paralleldots.sentiment(\"ji\")"
   ]
  },
  {
   "cell_type": "code",
   "execution_count": 4,
   "metadata": {},
   "outputs": [
    {
     "name": "stdout",
     "output_type": "stream",
     "text": [
      "(72058, 2)\n"
     ]
    }
   ],
   "source": [
    "f=pd.read_csv(\"tone_refined.csv\",encoding='ANSI')\n",
    "print(f.shape)"
   ]
  },
  {
   "cell_type": "code",
   "execution_count": 5,
   "metadata": {},
   "outputs": [
    {
     "name": "stdout",
     "output_type": "stream",
     "text": [
      "(71988, 2)\n",
      "(20000, 2)\n"
     ]
    }
   ],
   "source": [
    "f=f[f['content'].isna()!=True]\n",
    "print(f.shape)\n",
    "f40=f.iloc[40000:60000,:]\n",
    "#Get ready to play bingo\n",
    "print(f40.shape)"
   ]
  },
  {
   "cell_type": "code",
   "execution_count": null,
   "metadata": {},
   "outputs": [],
   "source": [
    "paralleldotTone=[]\n",
    "paralleldotToneScore=[]\n",
    "paralleldotSentiment=[]\n",
    "paralleldotSentimentScore=[]\n",
    "text=[]\n",
    "counter=0\n",
    "for row in f40.content[8137:]:\n",
    "    try:\n",
    "        r=paralleldots.emotion(row)\n",
    "        #print(r)\n",
    "        time.sleep(2)\n",
    "        prob=r['emotion']['probabilities']\n",
    "        paralleldotTone.append(r['emotion']['emotion'])\n",
    "        paralleldotToneScore.append(max(prob.items(), key=operator.itemgetter(1)))\n",
    "        time.sleep(5)\n",
    "        s=paralleldots.sentiment(row)\n",
    "        #print(s)\n",
    "        prob1=s['probabilities']\n",
    "        paralleldotSentiment.append(s['sentiment'])\n",
    "        paralleldotSentimentScore.append(max(prob1.items(), key=operator.itemgetter(1)))\n",
    "        \n",
    "        time.sleep(5)\n",
    "        text.append(row)\n",
    "        counter= counter+2\n",
    "    except Exception as e:\n",
    "        print(row,counter,e)\n",
    "        break"
   ]
  },
  {
   "cell_type": "code",
   "execution_count": 34,
   "metadata": {},
   "outputs": [
    {
     "data": {
      "text/plain": [
       "(222, 222)"
      ]
     },
     "execution_count": 34,
     "metadata": {},
     "output_type": "execute_result"
    }
   ],
   "source": [
    "len(paralleldotToneScore),len(paralleldotSentimentScore)"
   ]
  },
  {
   "cell_type": "code",
   "execution_count": 35,
   "metadata": {},
   "outputs": [
    {
     "data": {
      "text/plain": [
       "(222, 5)"
      ]
     },
     "execution_count": 35,
     "metadata": {},
     "output_type": "execute_result"
    }
   ],
   "source": [
    "d={\"content\":text,'ParallelTone':paralleldotTone,'ParallelSentiment':paralleldotSentiment,\\\n",
    "   'ParallelToneScore':paralleldotToneScore,'ParallelSentiScore':paralleldotSentimentScore}\n",
    "y=pd.DataFrame(d)\n",
    "#y.to_csv(\"toneparallelDotPart40.csv\",index=False)\n",
    "y.shape"
   ]
  },
  {
   "cell_type": "code",
   "execution_count": 36,
   "metadata": {},
   "outputs": [],
   "source": [
    "\n",
    "x=pd.read_csv(\"toneparallelDotPart40.csv\")\n",
    "#print(x.append(y))\n",
    "z=x.append(y)\n",
    "z.to_csv(\"toneparallelDotPart40.csv\",index=False)"
   ]
  },
  {
   "cell_type": "code",
   "execution_count": 37,
   "metadata": {},
   "outputs": [
    {
     "data": {
      "text/plain": [
       "(8137, 5)"
      ]
     },
     "execution_count": 37,
     "metadata": {},
     "output_type": "execute_result"
    }
   ],
   "source": [
    "z.shape"
   ]
  },
  {
   "cell_type": "code",
   "execution_count": 38,
   "metadata": {},
   "outputs": [
    {
     "data": {
      "text/plain": [
       "8137"
      ]
     },
     "execution_count": 38,
     "metadata": {},
     "output_type": "execute_result"
    }
   ],
   "source": [
    "7915+222"
   ]
  },
  {
   "cell_type": "code",
   "execution_count": 39,
   "metadata": {},
   "outputs": [
    {
     "data": {
      "text/plain": [
       "content      And here ladies and gentlemen we have the evid...\n",
       "sentiment                                            sarcastic\n",
       "Name: 48207, dtype: object"
      ]
     },
     "execution_count": 39,
     "metadata": {},
     "output_type": "execute_result"
    }
   ],
   "source": [
    "f.iloc[40000+8137,:]"
   ]
  },
  {
   "cell_type": "code",
   "execution_count": 65,
   "metadata": {},
   "outputs": [
    {
     "data": {
      "text/plain": [
       "47435    realized that fellow member had grown spiritua...\n",
       "47436                Looking for the toilet in dark place.\n",
       "47437    gave tutorial to student and found that he was...\n",
       "Name: content, dtype: object"
      ]
     },
     "execution_count": 65,
     "metadata": {},
     "output_type": "execute_result"
    }
   ],
   "source": [
    "f40.content[7365:7368]"
   ]
  },
  {
   "cell_type": "code",
   "execution_count": null,
   "metadata": {},
   "outputs": [],
   "source": [
    "f.shape"
   ]
  },
  {
   "cell_type": "code",
   "execution_count": null,
   "metadata": {},
   "outputs": [],
   "source": []
  }
 ],
 "metadata": {
  "kernelspec": {
   "display_name": "Python 3",
   "language": "python",
   "name": "python3"
  },
  "language_info": {
   "codemirror_mode": {
    "name": "ipython",
    "version": 3
   },
   "file_extension": ".py",
   "mimetype": "text/x-python",
   "name": "python",
   "nbconvert_exporter": "python",
   "pygments_lexer": "ipython3",
   "version": "3.6.4"
  }
 },
 "nbformat": 4,
 "nbformat_minor": 2
}
