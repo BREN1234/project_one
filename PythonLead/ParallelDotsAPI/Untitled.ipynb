{
 "cells": [
  {
   "cell_type": "code",
   "execution_count": 14,
   "metadata": {},
   "outputs": [],
   "source": [
    "import paralleldots,operator,time,pandas as pd,numpy as np"
   ]
  },
  {
   "cell_type": "code",
   "execution_count": 3,
   "metadata": {},
   "outputs": [],
   "source": [
    "jn=\"GdM50FPJv1wLGBghUpsqJ7jDczMYSphlluThHxPH53U\"\n",
    "an=\"rHNJQohiywrkj4gIJzAerr5t5EaLr5HfcMxXtCkrbEI\"\n",
    "jy=\"yh8fXhjh6q16hlW0L4jTHqmSM7ty2RNcE4tElhunppo\"\n",
    "paralleldots.set_api_key(jy)"
   ]
  },
  {
   "cell_type": "code",
   "execution_count": 13,
   "metadata": {},
   "outputs": [
    {
     "data": {
      "text/plain": [
       "{'code': 200,\n",
       " 'emotion': {'emotion': 'Excited',\n",
       "  'probabilities': {'Angry': 0.10566162873582106,\n",
       "   'Bored': 0.019645472761801817,\n",
       "   'Excited': 0.26103623089153827,\n",
       "   'Fear': 0.22446613902908485,\n",
       "   'Happy': 0.21051058291674085,\n",
       "   'Sad': 0.17867994566501316}}}"
      ]
     },
     "execution_count": 13,
     "metadata": {},
     "output_type": "execute_result"
    }
   ],
   "source": [
    "paralleldots.get_api_key()\n",
    "paralleldots.emotion(\"\"\"HOLY SH*T, marc. You're doing EXACTLY WHAT THE REVIEW SAYS YOU PEOPLE DO. You're making the claim without giving any explanation. \"OMG TEH SCEINCES IS ATHIESTIC BECUZ THEY JUST AER!!\"   Thanks for making it extremely clear. Refuting a point by demonstrating it isn't very effective.   Seriously, how disconnected from reality does one have to be in order to do something like this?\"\"\")"
   ]
  },
  {
   "cell_type": "code",
   "execution_count": 6,
   "metadata": {},
   "outputs": [
    {
     "name": "stdout",
     "output_type": "stream",
     "text": [
      "<html><title>500: Internal Server Error</title><body>500: Internal Server Error</body></html>\n"
     ]
    },
    {
     "name": "stderr",
     "output_type": "stream",
     "text": [
      "  % Total    % Received % Xferd  Average Speed   Time    Time     Time  Current\n",
      "                                 Dload  Upload   Total   Spent    Left  Speed\n",
      "\n",
      "  0     0    0     0    0     0      0      0 --:--:-- --:--:-- --:--:--     0\n",
      "  0     0    0     0    0     0      0      0 --:--:-- --:--:-- --:--:--     0\n",
      "  0     0    0     0    0     0      0      0 --:--:--  0:00:01 --:--:--     0curl: (6) Could not resolve host: am\n",
      "\n",
      "  0     0    0     0    0     0      0      0 --:--:-- --:--:-- --:--:--     0\n",
      "  0     0    0     0    0     0      0      0 --:--:--  0:00:01 --:--:--     0curl: (6) Could not resolve host: trying\n",
      "\n",
      "  0     0    0     0    0     0      0      0 --:--:-- --:--:-- --:--:--     0\n",
      "  0     0    0     0    0     0      0      0 --:--:--  0:00:01 --:--:--     0curl: (6) Could not resolve host: to\n",
      "\n",
      "  0     0    0     0    0     0      0      0 --:--:-- --:--:-- --:--:--     0\n",
      "  0     0    0     0    0     0      0      0 --:--:-- --:--:-- --:--:--     0\n",
      "  0     0    0     0    0     0      0      0 --:--:--  0:00:01 --:--:--     0curl: (6) Could not resolve host: imagine\n",
      "\n",
      "  0     0    0     0    0     0      0      0 --:--:-- --:--:-- --:--:--     0\n",
      "  0     0    0     0    0     0      0      0 --:--:--  0:00:01 --:--:--     0curl: (6) Could not resolve host: you\n",
      "\n",
      "  0     0    0     0    0     0      0      0 --:--:-- --:--:-- --:--:--     0\n",
      "  0     0    0     0    0     0      0      0 --:--:--  0:00:01 --:--:--     0\n",
      "  0     0    0     0    0     0      0      0 --:--:--  0:00:02 --:--:--     0curl: (6) Could not resolve host: with\n",
      "\n",
      "  0     0    0     0    0     0      0      0 --:--:-- --:--:-- --:--:--     0\n",
      "  0     0    0     0    0     0      0      0 --:--:--  0:00:01 --:--:--     0curl: (6) Could not resolve host: a\n",
      "curl: (6) Could not resolve host: personality.'\n",
      "\n",
      "100   375  100    93  100   282    259    785 --:--:-- --:--:-- --:--:--  1044\n"
     ]
    }
   ],
   "source": [
    "!curl -X POST -F 'text=I am trying to imagine you with a personality.' -F 'api_key=yh8fXhjh6q16hlW0L4jTHqmSM7ty2RNcE4tElhunppo' https://apis.paralleldots.com/v3/emotion"
   ]
  },
  {
   "cell_type": "code",
   "execution_count": 15,
   "metadata": {},
   "outputs": [],
   "source": [
    "p= pd.read_csv(\"parallelDotPart_tone.csv\")"
   ]
  },
  {
   "cell_type": "code",
   "execution_count": 16,
   "metadata": {},
   "outputs": [
    {
     "data": {
      "text/plain": [
       "Index(['ParallelSentiScore', 'ParallelSentiment', 'ParallelTone',\n",
       "       'ParallelToneScore', 'content'],\n",
       "      dtype='object')"
      ]
     },
     "execution_count": 16,
     "metadata": {},
     "output_type": "execute_result"
    }
   ],
   "source": [
    "p.columns"
   ]
  },
  {
   "cell_type": "code",
   "execution_count": 17,
   "metadata": {},
   "outputs": [
    {
     "data": {
      "text/plain": [
       "array(['negative', 'neutral', 'positive'], dtype=object)"
      ]
     },
     "execution_count": 17,
     "metadata": {},
     "output_type": "execute_result"
    }
   ],
   "source": [
    "p.ParallelSentiment.unique()"
   ]
  },
  {
   "cell_type": "code",
   "execution_count": null,
   "metadata": {},
   "outputs": [],
   "source": []
  }
 ],
 "metadata": {
  "kernelspec": {
   "display_name": "Python 3",
   "language": "python",
   "name": "python3"
  },
  "language_info": {
   "codemirror_mode": {
    "name": "ipython",
    "version": 3
   },
   "file_extension": ".py",
   "mimetype": "text/x-python",
   "name": "python",
   "nbconvert_exporter": "python",
   "pygments_lexer": "ipython3",
   "version": "3.6.4"
  }
 },
 "nbformat": 4,
 "nbformat_minor": 2
}
