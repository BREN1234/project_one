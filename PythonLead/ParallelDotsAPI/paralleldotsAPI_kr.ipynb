{
 "cells": [
  {
   "cell_type": "code",
   "execution_count": null,
   "metadata": {},
   "outputs": [],
   "source": [
    "#!pip install paralleldots"
   ]
  },
  {
   "cell_type": "code",
   "execution_count": 1,
   "metadata": {},
   "outputs": [],
   "source": [
    "import paralleldots,operator,time,pandas as pd"
   ]
  },
  {
   "cell_type": "code",
   "execution_count": 17,
   "metadata": {},
   "outputs": [],
   "source": [
    "ya=\"cOyxZRDTBL4cuIQoLUWcy2hNZMTajSYtvdC6eMDvMgE\"\n",
    "kr=\"rmhV69AQkAPrVLnDIY7iTYIghekkMZpiAlyO2DVPVvA\"\n",
    "ol=\"zzDml3R5Rl3XoQus2bA00QyuWf4EoJET77AqPGzOj2w\"\n",
    "paralleldots.set_api_key(ol)"
   ]
  },
  {
   "cell_type": "code",
   "execution_count": 18,
   "metadata": {},
   "outputs": [
    {
     "data": {
      "text/plain": [
       "{'code': 200,\n",
       " 'probabilities': {'negative': 0.01, 'neutral': 0.972, 'positive': 0.018},\n",
       " 'sentiment': 'neutral'}"
      ]
     },
     "execution_count": 18,
     "metadata": {},
     "output_type": "execute_result"
    }
   ],
   "source": [
    "paralleldots.get_api_key()\n",
    "paralleldots.sentiment(\"hi\")"
   ]
  },
  {
   "cell_type": "code",
   "execution_count": 4,
   "metadata": {},
   "outputs": [
    {
     "data": {
      "text/plain": [
       "(72058, 2)"
      ]
     },
     "execution_count": 4,
     "metadata": {},
     "output_type": "execute_result"
    }
   ],
   "source": [
    "f=pd.read_csv(\"tone_refined.csv\")\n",
    "f.shape"
   ]
  },
  {
   "cell_type": "code",
   "execution_count": 5,
   "metadata": {},
   "outputs": [],
   "source": [
    "f=f[f.content.isnull()!=True]"
   ]
  },
  {
   "cell_type": "code",
   "execution_count": 6,
   "metadata": {},
   "outputs": [
    {
     "data": {
      "text/plain": [
       "(71988, 2)"
      ]
     },
     "execution_count": 6,
     "metadata": {},
     "output_type": "execute_result"
    }
   ],
   "source": [
    "f.shape\n",
    "#'probabilities' am going to die tomorrow night.  should be here.\n"
   ]
  },
  {
   "cell_type": "code",
   "execution_count": null,
   "metadata": {},
   "outputs": [],
   "source": [
    "paralleldotTone=[]\n",
    "paralleldotToneScore=[]\n",
    "paralleldotSentiment=[]\n",
    "paralleldotSentimentScore=[]\n",
    "text=[]\n",
    "counter=0\n",
    "for row in f.content[19486:]:\n",
    "    try:\n",
    "        r=paralleldots.emotion(row)\n",
    "        time.sleep(5)\n",
    "        #print(r)\n",
    "        prob=r['emotion']['probabilities']\n",
    "        paralleldotTone.append(r['emotion']['emotion'])\n",
    "        paralleldotToneScore.append(max(prob.items(), key=operator.itemgetter(1)))\n",
    "        time.sleep(5)\n",
    "        s=paralleldots.sentiment(row)\n",
    "        prob1=s['probabilities']\n",
    "        paralleldotSentiment.append(s['sentiment'])\n",
    "        paralleldotSentimentScore.append(max(prob1.items(), key=operator.itemgetter(1)))\n",
    "        time.sleep(3)\n",
    "        counter= counter+2\n",
    "        text.append(row)\n",
    "    except Exception as e:\n",
    "        print(e,row,counter)\n",
    "        break"
   ]
  },
  {
   "cell_type": "code",
   "execution_count": 28,
   "metadata": {},
   "outputs": [
    {
     "data": {
      "text/plain": [
       "(203, 203, 203)"
      ]
     },
     "execution_count": 28,
     "metadata": {},
     "output_type": "execute_result"
    }
   ],
   "source": [
    "len(paralleldotToneScore),len(paralleldotSentimentScore),len(text)"
   ]
  },
  {
   "cell_type": "code",
   "execution_count": 29,
   "metadata": {},
   "outputs": [],
   "source": [
    "d={\"content\":text,'ParallelTone':paralleldotTone,'ParallelSentiment':paralleldotSentiment,\\\n",
    "   'ParallelToneScore':paralleldotToneScore,'ParallelSentiScore':paralleldotSentimentScore}\n",
    "y=pd.DataFrame(d)"
   ]
  },
  {
   "cell_type": "code",
   "execution_count": 30,
   "metadata": {},
   "outputs": [],
   "source": [
    "x=pd.read_csv(\"parallelDotPart_tone.csv\")\n",
    "#print(x.append(y))\n",
    "z=x.append(y)\n",
    "z.to_csv(\"parallelDotPart_tone.csv\",index=False)"
   ]
  },
  {
   "cell_type": "code",
   "execution_count": 31,
   "metadata": {},
   "outputs": [
    {
     "data": {
      "text/plain": [
       "(19599, 5)"
      ]
     },
     "execution_count": 31,
     "metadata": {},
     "output_type": "execute_result"
    }
   ],
   "source": [
    "z.shape"
   ]
  },
  {
   "cell_type": "code",
   "execution_count": 32,
   "metadata": {},
   "outputs": [
    {
     "data": {
      "text/plain": [
       "19486"
      ]
     },
     "execution_count": 32,
     "metadata": {},
     "output_type": "execute_result"
    }
   ],
   "source": [
    "#y.to_csv(\"toneparallelDotPart.csv\",index=False)\n",
    "19283+203"
   ]
  },
  {
   "cell_type": "code",
   "execution_count": 34,
   "metadata": {},
   "outputs": [
    {
     "data": {
      "text/plain": [
       "19522                         hear you sister!! Same here.\n",
       "19523    Trying to watch Boys Before Flowers online. St...\n",
       "Name: content, dtype: object"
      ]
     },
     "execution_count": 34,
     "metadata": {},
     "output_type": "execute_result"
    }
   ],
   "source": [
    "f.content[19486:19488]"
   ]
  },
  {
   "cell_type": "code",
   "execution_count": 76,
   "metadata": {},
   "outputs": [
    {
     "data": {
      "text/html": [
       "<div>\n",
       "<style scoped>\n",
       "    .dataframe tbody tr th:only-of-type {\n",
       "        vertical-align: middle;\n",
       "    }\n",
       "\n",
       "    .dataframe tbody tr th {\n",
       "        vertical-align: top;\n",
       "    }\n",
       "\n",
       "    .dataframe thead th {\n",
       "        text-align: right;\n",
       "    }\n",
       "</style>\n",
       "<table border=\"1\" class=\"dataframe\">\n",
       "  <thead>\n",
       "    <tr style=\"text-align: right;\">\n",
       "      <th></th>\n",
       "      <th>ParallelSentiScore</th>\n",
       "      <th>ParallelSentiment</th>\n",
       "      <th>ParallelTone</th>\n",
       "      <th>ParallelToneScore</th>\n",
       "      <th>content</th>\n",
       "    </tr>\n",
       "  </thead>\n",
       "  <tbody>\n",
       "  </tbody>\n",
       "</table>\n",
       "</div>"
      ],
      "text/plain": [
       "Empty DataFrame\n",
       "Columns: [ParallelSentiScore, ParallelSentiment, ParallelTone, ParallelToneScore, content]\n",
       "Index: []"
      ]
     },
     "execution_count": 76,
     "metadata": {},
     "output_type": "execute_result"
    }
   ],
   "source": [
    "z[z.content==\"poor bretty. but yay phils\"]"
   ]
  },
  {
   "cell_type": "code",
   "execution_count": null,
   "metadata": {},
   "outputs": [],
   "source": []
  }
 ],
 "metadata": {
  "kernelspec": {
   "display_name": "Python 3",
   "language": "python",
   "name": "python3"
  },
  "language_info": {
   "codemirror_mode": {
    "name": "ipython",
    "version": 3
   },
   "file_extension": ".py",
   "mimetype": "text/x-python",
   "name": "python",
   "nbconvert_exporter": "python",
   "pygments_lexer": "ipython3",
   "version": "3.6.4"
  }
 },
 "nbformat": 4,
 "nbformat_minor": 2
}
