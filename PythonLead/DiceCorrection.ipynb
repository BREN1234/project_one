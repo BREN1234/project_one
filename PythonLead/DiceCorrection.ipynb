{
 "cells": [
  {
   "cell_type": "code",
   "execution_count": 1,
   "metadata": {},
   "outputs": [],
   "source": [
    "import requests ,re\n",
    "from bs4 import BeautifulSoup"
   ]
  },
  {
   "cell_type": "code",
   "execution_count": 2,
   "metadata": {},
   "outputs": [],
   "source": [
    "url=\"https://www.dice.com/jobs/advancedResult?q=%28Java%29&l=USA&limit=100&postedDate=3\"\n",
    "url2=\"https://www.dice.com/jobs/advancedResult?q=%28Java+Developer%29&l=Usa&limit=100&radius=100&postedDate=3&sort=date\""
   ]
  },
  {
   "cell_type": "code",
   "execution_count": 3,
   "metadata": {},
   "outputs": [],
   "source": [
    "responseText= requests.get(url2)"
   ]
  },
  {
   "cell_type": "code",
   "execution_count": 4,
   "metadata": {},
   "outputs": [],
   "source": [
    "text= BeautifulSoup(responseText.text,'lxml')"
   ]
  },
  {
   "cell_type": "code",
   "execution_count": 5,
   "metadata": {},
   "outputs": [],
   "source": [
    "numberOfPosition= text.find('span',id=\"posiCountId\").text.strip()"
   ]
  },
  {
   "cell_type": "code",
   "execution_count": 6,
   "metadata": {},
   "outputs": [],
   "source": [
    "records= text.find_all(\"div\",class_=\"complete-serp-result-div\")"
   ]
  },
  {
   "cell_type": "code",
   "execution_count": 7,
   "metadata": {},
   "outputs": [],
   "source": [
    "designatoin= records[1].find('a',class_=\"dice-btn-link loggedInVisited\").text.strip()\n",
    "url= records[1].find('a',class_=\"dice-btn-link loggedInVisited\")['href']"
   ]
  },
  {
   "cell_type": "code",
   "execution_count": 8,
   "metadata": {},
   "outputs": [],
   "source": [
    "firstC= records[0].find('span',class_=\"hidden-xs\")\n",
    "companyUrl=firstC.find('a',class_=\"dice-btn-link\")['href']\n",
    "companyName=firstC.find('span',class_=\"compName\").text"
   ]
  },
  {
   "cell_type": "code",
   "execution_count": 9,
   "metadata": {},
   "outputs": [
    {
     "data": {
      "text/plain": [
       "('6',\n",
       " 'FoxTrot Developer-REMOTE',\n",
       " '/jobs/detail/FoxTrot-Developer%26%2345REMOTE-Softworld%2C-Inc.-South-Carolina%2C-Usa-SC-/softwinc/Softworld_2295%26%2345232',\n",
       " 'Experis',\n",
       " '/company/COMSYSD')"
      ]
     },
     "execution_count": 9,
     "metadata": {},
     "output_type": "execute_result"
    }
   ],
   "source": [
    "numberOfPosition,designatoin,url,companyName,companyUrl"
   ]
  },
  {
   "cell_type": "code",
   "execution_count": 13,
   "metadata": {},
   "outputs": [
    {
     "name": "stdout",
     "output_type": "stream",
     "text": [
      "2019-06-29\n"
     ]
    }
   ],
   "source": [
    "posted_date=records[3].find('li',class_=\"posted col-xs-12 col-sm-2 col-md-2 col-lg-2 margin-top-3 text-wrap-padding\")\\\n",
    ".find('span',style=\"display:none;\").text\\\n",
    ".split('T')[0]\n",
    "print(posted_date)"
   ]
  },
  {
   "cell_type": "code",
   "execution_count": 11,
   "metadata": {},
   "outputs": [],
   "source": [
    "posted_day= records[3].find('li',class_=\"posted col-xs-12 col-sm-2 col-md-2 col-lg-2 margin-top-3 text-wrap-padding\").text.strip()"
   ]
  },
  {
   "cell_type": "code",
   "execution_count": 12,
   "metadata": {},
   "outputs": [
    {
     "data": {
      "text/plain": [
       "'moments ago'"
      ]
     },
     "execution_count": 12,
     "metadata": {},
     "output_type": "execute_result"
    }
   ],
   "source": [
    "posted_day.translate({ord('\\t'):None}).split(\"\\n\")[0]"
   ]
  },
  {
   "cell_type": "code",
   "execution_count": 14,
   "metadata": {},
   "outputs": [
    {
     "data": {
      "text/plain": [
       "<div class=\"complete-serp-result-div\" data-applicationtype=\"external-app\" id=\"viewedId7a045e79bd60e12a027923bcd3c815f8\">\n",
       "<div class=\"serp-result-content bold-highlight\">\n",
       "<input id=\"featureId7a045e79bd60e12a027923bcd3c815f8\" type=\"hidden\" value=\"false\"/>\n",
       "<div class=\"logo-section hidden-xs\">\n",
       "<div class=\"logopath\">\n",
       "<a class=\"circle\" href=\"/jobs/detail/Salesforce.com-Developer-Catapult-Staffing-Virginia%2C-Usa-VA-/10529568/JN062019112498%26%2345195\" rel=\"nofollow\" style=\"display:none;\">C</a>\n",
       "<a href=\"/jobs/detail/Salesforce.com-Developer-Catapult-Staffing-Virginia%2C-Usa-VA-/10529568/JN062019112498%26%2345195\" rel=\"nofollow\"> <img alt=\"Catapult Staffing\" onerror=\"errorImg(this)\" src=\"//assets.dice.com/external/images/empLogos/f313b573f33d5311ec9859584a8bc0dd.jpg\"/></a>\n",
       "</div>\n",
       "</div>\n",
       "<ul class=\"list-inline\" style=\"margin-bottom: 2px;\">\n",
       "<li>\n",
       "<h3>\n",
       "<a class=\"dice-btn-link loggedInVisited\" href=\"/jobs/detail/Salesforce.com-Developer-Catapult-Staffing-Virginia%2C-Usa-VA-/10529568/JN062019112498%26%2345195\" id=\"position3\" onclick=\"cookieJobID('7a045e79bd60e12a027923bcd3c815f8');handleBackButton(this);\" style=\"font-size:18px;\" title=\"Salesforce.com Developer\" value=\"7a045e79bd60e12a027923bcd3c815f8\">\n",
       "<span>Salesforce.com Developer</span>\n",
       "</a>\n",
       "</h3>\n",
       "</li>\n",
       "<li><span class=\"job-status-indicator icon-preview-1 visited loggedInVisited \"></span></li>\n",
       "<li><span class=\"job-status-indicator icon-star-1 saveaction\" data-placement=\"top\" data-toggle=\"tooltip\" id=\"7a045e79bd60e12a027923bcd3c815f8\" issavedjob=\"false\" title=\"Save\"></span></li>\n",
       "</ul>\n",
       "<div class=\"shortdesc col-sm-3 col-xs-8 col-md-8 col-lg-8 hidden-xs hidden-sm\" style=\"padding-left: 5px; padding-right: 5px;overflow: hidden;text-overflow: ellipsis;\">\n",
       "<span>A client of ours in Arlington, VA has an immediate need for several Salesforce.com developers supporting a federal client. Successful </span>\n",
       "</div>\n",
       "<div class=\"shortdesc visible-xs visible-sm hidden-lg hidden-md\">\n",
       "<span>A client of ours in Arlington, VA has an immediate need for several Salesforce.com developers supporting a federal client. Successful </span>\n",
       "</div>\n",
       "<ul class=\"list-inline details row\">\n",
       "<li class=\"employer col-sm-3 col-xs-12 col-md-2 col-lg-3 text-ellipsis\"><span class=\"icon-building-2\"></span>\n",
       "<span class=\"hidden-xs\" title=\"Catapult Staffing\">\n",
       "<a class=\"dice-btn-link\" href=\"/company/10529568\" id=\"company3\" rel=\"nofollow\">\n",
       "<span class=\"compName\">Catapult Staffing</span>\n",
       "</a>\n",
       "</span>\n",
       "<span class=\"hidden-md hidden-sm hidden-lg visible-xs\" style=\"margin-top:-17px ; margin-left:15px\" title=\"Catapult Staffing\">\n",
       "<a class=\"dice-btn-link\" href=\"/company/10529568\" id=\"company3\" rel=\"nofollow\">\n",
       "<span class=\"compName\">Catapult Staffing</span>\n",
       "</a>\n",
       "</span>\n",
       "</li>\n",
       "<li class=\"location col-sm-3 col-xs-12 col-md-2 col-lg-3 margin-top-3 text-ellipsis\" title=\"Virginia, Usa, VA\"><span class=\"icon-compass-3\"></span>\n",
       "<span>\n",
       "<span class=\"jobLoc\">Virginia, Usa, VA</span>\n",
       "<span style=\"display:none;\">\n",
       "<span>VA</span>\n",
       "<span></span>\n",
       "<span>Virginia, Usa, VA</span>\n",
       "</span>\n",
       "</span>\n",
       "</li>\n",
       "<li class=\"posted col-xs-12 col-sm-2 col-md-2 col-lg-2 margin-top-3 text-wrap-padding\">\n",
       "<span class=\"icon-calendar-2\"></span>moments ago\n",
       "\t\t\t\t\t\t\t\t\t\t<span style=\"display:none;\">2019-06-29T04:16:23Z</span>\n",
       "</li>\n",
       "</ul>\n",
       "</div>\n",
       "<div class=\"recommendedJobClass col-md-12 hidden-xs hidden-sm\" id=\"recommended7a045e79bd60e12a027923bcd3c815f8\" style=\"display: none;\">\n",
       "<div class=\"row\">\n",
       "<div class=\"col-md-12\" style=\"margin-top: 15px;\">\n",
       "<div class=\"pull-left recommTxt\">YOU MAY ALSO LIKE THIS</div>\n",
       "<div class=\"pull-right\" onclick=\"closeRecommended(this)\" style=\"cursor: pointer;\">X</div>\n",
       "</div>\n",
       "</div>\n",
       "</div>\n",
       "</div>"
      ]
     },
     "execution_count": 14,
     "metadata": {},
     "output_type": "execute_result"
    }
   ],
   "source": [
    "records[3]"
   ]
  },
  {
   "cell_type": "code",
   "execution_count": null,
   "metadata": {},
   "outputs": [],
   "source": []
  }
 ],
 "metadata": {
  "kernelspec": {
   "display_name": "Python 3",
   "language": "python",
   "name": "python3"
  },
  "language_info": {
   "codemirror_mode": {
    "name": "ipython",
    "version": 3
   },
   "file_extension": ".py",
   "mimetype": "text/x-python",
   "name": "python",
   "nbconvert_exporter": "python",
   "pygments_lexer": "ipython3",
   "version": "3.6.5"
  }
 },
 "nbformat": 4,
 "nbformat_minor": 2
}
